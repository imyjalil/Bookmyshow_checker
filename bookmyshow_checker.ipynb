{
 "cells": [
  {
   "cell_type": "code",
   "execution_count": 15,
   "metadata": {},
   "outputs": [
    {
     "name": "stdout",
     "output_type": "stream",
     "text": [
      "Email sent!\n"
     ]
    }
   ],
   "source": [
    "import urllib\n",
    "import re\n",
    "import bs4 as bs\n",
    "import smtplib\n",
    "#SMTP initialisation\n",
    "senders_email=\"sendersemail8@gmail.com\"\n",
    "senders_password=\"forsending\"\n",
    "receivers_email=\"receiversemail8@gmail.com\"\n",
    "receivers_password=\"forreceiving\"\n",
    "server = smtplib.SMTP('smtp.gmail.com', 587)\n",
    "server.ehlo()\n",
    "server.starttls()\n",
    "server.ehlo()\n",
    "server.login(senders_email, senders_password)\n",
    "#ends here\n",
    "#Initialisations begin\n",
    "theatre=\"Prasads: Large Screen\"\n",
    "movie=\"Arjun Reddy\"\n",
    "date='20170829' #yyyymmdd format\n",
    "url=\"https://in.bookmyshow.com/hyderabad\"\n",
    "handle=urllib.request.urlopen(url)\n",
    "ht=handle.read()\n",
    "soup=bs.BeautifulSoup(ht,'html.parser')\n",
    "word=\"\"\n",
    "#Now it searches for the movie code, in this case,it is ET00050049\n",
    "for link in soup.findAll(True, {\"class\":[\"__name\"]}):\n",
    "    if(link.get('href')!=None):\n",
    "        if movie not in link.text:\n",
    "            continue\n",
    "        else:\n",
    "            word=link.get('href')\n",
    "if(word==\"\"):\n",
    "    print(\"Movie not yet Added!\")\n",
    "else:\n",
    "    words=word.split('/')\n",
    "    word=\"https://in.bookmyshow.com/buytickets/\"+words[3]+'-hyderabad/movie-hyd-'+words[4]+'-MT/'+date \n",
    "    #format of tickets' portal is https://in.bookmyshow.com/buytickets/movie-name-city/movie-hyd-movie_code-MT/date \n",
    "    soup1=bs.BeautifulSoup(urllib.request.urlopen(word).read(),'html.parser')#parsing the page corresponding to the given date\n",
    "    if theatre not in soup1.text:\n",
    "        print(\"Unvailable!\")\n",
    "    else:\n",
    "        msg=\"Tickets Available!\"\n",
    "        server.sendmail(senders_email,receivers_email, msg)\n",
    "        print(\"Email sent!\")"
   ]
  }
 ],
 "metadata": {
  "kernelspec": {
   "display_name": "Python 3",
   "language": "python",
   "name": "python3"
  },
  "language_info": {
   "codemirror_mode": {
    "name": "ipython",
    "version": 3
   },
   "file_extension": ".py",
   "mimetype": "text/x-python",
   "name": "python",
   "nbconvert_exporter": "python",
   "pygments_lexer": "ipython3",
   "version": "3.6.2"
  }
 },
 "nbformat": 4,
 "nbformat_minor": 2
}
